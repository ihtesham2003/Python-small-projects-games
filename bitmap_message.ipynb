{
 "cells": [
  {
   "cell_type": "markdown",
   "id": "0414dadd",
   "metadata": {},
   "source": [
    " # Bitmap message"
   ]
  },
  {
   "cell_type": "code",
   "execution_count": null,
   "id": "7765e925",
   "metadata": {},
   "outputs": [
    {
     "name": "stdout",
     "output_type": "stream",
     "text": [
      "Bitmap message by Haider!\n",
      "Enter the message to display with the bitmap.\n"
     ]
    }
   ],
   "source": [
    "import sys\n",
    "\n",
    "bitmap = \"\"\"\n",
    "....................................................................\n",
    "   **************   *  *** **  *      ******************************\n",
    "  ********************* ** ** *  * ****************************** *\n",
    " **      *****************       ******************************\n",
    "          *************          **  * **** ** ************** *\n",
    "           *********            *******   **************** * *\n",
    "            ********           ***************************  *\n",
    "   *        * **** ***         *************** ******  ** *\n",
    "               ****  *         ***************   *** ***  *\n",
    "                 ******         *************    **   **  *\n",
    "                 ********        *************    *  ** ***\n",
    "                   ********         ********          * *** ****\n",
    "                   *********         ******  *        **** ** * **\n",
    "                   *********         ****** * *           *** *   *\n",
    "                     ******          ***** **             *****   *\n",
    "                     *****            **** *            ********\n",
    "                    *****             ****              *********\n",
    "                    ****              **                 *******   *\n",
    "                    ***                                       *    *\n",
    "                    **     *                    *\n",
    "....................................................................\n",
    "\"\"\"\n",
    "print(\"Bitmap message by Haider!\")\n",
    "print('Enter the message to display with the bitmap.')\n",
    "message = input('>')\n",
    "if message == '':\n",
    "    sys.exit()\n",
    "    \n",
    "#loop through each line\n",
    "for line in bitmap.splitlines():\n",
    "    #loop over each character in the line:\n",
    "    for i, bit in enumerate(line):\n",
    "        if bit == '':\n",
    "            #printing an empty space between in bitmap message\n",
    "            print(' ', end='')\n",
    "        else:\n",
    "            #printing a character from the message like, Hello\n",
    "            print(message[i % len(message)], end='')\n",
    "    print()"
   ]
  },
  {
   "cell_type": "code",
   "execution_count": null,
   "id": "8a9fa818",
   "metadata": {},
   "outputs": [],
   "source": []
  }
 ],
 "metadata": {
  "kernelspec": {
   "display_name": "Python 3 (ipykernel)",
   "language": "python",
   "name": "python3"
  },
  "language_info": {
   "codemirror_mode": {
    "name": "ipython",
    "version": 3
   },
   "file_extension": ".py",
   "mimetype": "text/x-python",
   "name": "python",
   "nbconvert_exporter": "python",
   "pygments_lexer": "ipython3",
   "version": "3.8.5"
  }
 },
 "nbformat": 4,
 "nbformat_minor": 5
}
